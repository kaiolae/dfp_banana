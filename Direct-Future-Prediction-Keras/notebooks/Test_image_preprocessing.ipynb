{
 "cells": [
  {
   "cell_type": "code",
   "execution_count": 20,
   "metadata": {},
   "outputs": [
    {
     "name": "stderr",
     "output_type": "stream",
     "text": [
      "INFO:mlagents.envs:\n",
      "'Academy' started successfully!\n",
      "Unity Academy name: Academy\n",
      "        Number of Brains: 1\n",
      "        Number of Training Brains : 1\n",
      "        Reset Parameters :\n",
      "\t\t\n",
      "Unity brain name: VisualBananaLearning\n",
      "        Number of Visual Observations (per agent): 1\n",
      "        Vector Observation space size (per agent): 3\n",
      "        Number of stacked Vector Observation: 1\n",
      "        Vector Action space type: discrete\n",
      "        Vector Action space size (per agent): [3, 3, 3]\n",
      "        Vector Action descriptions: , , \n",
      "INFO:gym_unity:1 agents within environment.\n"
     ]
    }
   ],
   "source": [
    "from gym_unity.envs.unity_env import UnityEnv\n",
    "env = UnityEnv(\"../../unity_envs/kais_banana2\", worker_id=36, use_visual=True, flatten_branched=True)"
   ]
  },
  {
   "cell_type": "code",
   "execution_count": 21,
   "metadata": {},
   "outputs": [],
   "source": [
    "initial_observation = env.reset()"
   ]
  },
  {
   "cell_type": "code",
   "execution_count": 22,
   "metadata": {},
   "outputs": [],
   "source": [
    "observation, reward, done, info = env.step(12)"
   ]
  },
  {
   "cell_type": "code",
   "execution_count": 23,
   "metadata": {},
   "outputs": [
    {
     "data": {
      "image/png": "[encoded data removed]",
      "text/plain": [
       "<Figure size 432x288 with 1 Axes>"
      ]
     },
     "metadata": {
      "needs_background": "light"
     },
     "output_type": "display_data"
    }
   ],
   "source": [
    "import matplotlib.pyplot as plt\n",
    "x_t1 = observation\n",
    "plt.imshow(x_t1)\n",
    "plt.show()"
   ]
  },
  {
   "cell_type": "code",
   "execution_count": 24,
   "metadata": {},
   "outputs": [
    {
     "data": {
      "image/png": "[encoded data removed]",
      "text/plain": [
       "<Figure size 432x288 with 1 Axes>"
      ]
     },
     "metadata": {
      "needs_background": "light"
     },
     "output_type": "display_data"
    },
    {
     "name": "stdout",
     "output_type": "stream",
     "text": [
      "[[[0.83921569 0.7254902  0.58431373]\n",
      "  [0.83921569 0.7254902  0.58431373]\n",
      "  [0.83921569 0.7254902  0.58431373]\n",
      "  ...\n",
      "  [0.83921569 0.7254902  0.58431373]\n",
      "  [0.83921569 0.7254902  0.58431373]\n",
      "  [0.83921569 0.7254902  0.58431373]]\n",
      "\n",
      " [[0.83921569 0.7254902  0.58431373]\n",
      "  [0.83921569 0.7254902  0.58431373]\n",
      "  [0.83921569 0.7254902  0.58431373]\n",
      "  ...\n",
      "  [0.83921569 0.7254902  0.58431373]\n",
      "  [0.83921569 0.7254902  0.58431373]\n",
      "  [0.83921569 0.7254902  0.58431373]]\n",
      "\n",
      " [[0.83921569 0.7254902  0.58431373]\n",
      "  [0.83921569 0.7254902  0.58431373]\n",
      "  [0.83921569 0.7254902  0.58431373]\n",
      "  ...\n",
      "  [0.83921569 0.7254902  0.58431373]\n",
      "  [0.83921569 0.7254902  0.58431373]\n",
      "  [0.83921569 0.7254902  0.58431373]]\n",
      "\n",
      " ...\n",
      "\n",
      " [[0.81568627 0.76078431 0.69411765]\n",
      "  [0.81176471 0.76078431 0.69411765]\n",
      "  [0.81176471 0.76078431 0.69411765]\n",
      "  ...\n",
      "  [0.80784314 0.75686275 0.69019608]\n",
      "  [0.80784314 0.75686275 0.69019608]\n",
      "  [0.80784314 0.75686275 0.69019608]]\n",
      "\n",
      " [[0.81176471 0.75686275 0.69411765]\n",
      "  [0.81176471 0.75686275 0.69411765]\n",
      "  [0.81176471 0.75686275 0.69411765]\n",
      "  ...\n",
      "  [0.80392157 0.75294118 0.69019608]\n",
      "  [0.80392157 0.75294118 0.69019608]\n",
      "  [0.80392157 0.75294118 0.69019608]]\n",
      "\n",
      " [[0.80784314 0.75686275 0.69019608]\n",
      "  [0.80784314 0.75686275 0.69019608]\n",
      "  [0.80784314 0.75686275 0.69019608]\n",
      "  ...\n",
      "  [0.80392157 0.74901961 0.68627451]\n",
      "  [0.80392157 0.74901961 0.68627451]\n",
      "  [0.80392157 0.75294118 0.68627451]]]\n"
     ]
    }
   ],
   "source": [
    "import numpy as np\n",
    "s_t1 = np.expand_dims(x_t1, axis=0)\n",
    "plt.imshow(s_t1[0])\n",
    "plt.show()\n",
    "print(s_t1[0])"
   ]
  },
  {
   "cell_type": "code",
   "execution_count": 12,
   "metadata": {},
   "outputs": [],
   "source": [
    "#Testing to load the images from actual training.\n",
    "imgs = np.load(\"../images_for_testing.out.npy\")"
   ]
  },
  {
   "cell_type": "code",
   "execution_count": 15,
   "metadata": {},
   "outputs": [
    {
     "name": "stderr",
     "output_type": "stream",
     "text": [
      "WARNING:matplotlib.image:Clipping input data to the valid range for imshow with RGB data ([0..1] for floats or [0..255] for integers).\n"
     ]
    },
    {
     "data": {
      "image/png": "[encoded data removed]",
      "text/plain": [
       "<Figure size 432x288 with 1 Axes>"
      ]
     },
     "metadata": {
      "needs_background": "light"
     },
     "output_type": "display_data"
    }
   ],
   "source": [
    "plt.imshow(imgs[1])\n",
    "plt.show()"
   ]
  },
  {
   "cell_type": "code",
   "execution_count": 16,
   "metadata": {},
   "outputs": [
    {
     "name": "stdout",
     "output_type": "stream",
     "text": [
      "[[[214. 185. 149.]\n",
      "  [214. 185. 149.]\n",
      "  [214. 185. 149.]\n",
      "  ...\n",
      "  [214. 185. 149.]\n",
      "  [214. 185. 149.]\n",
      "  [214. 185. 149.]]\n",
      "\n",
      " [[214. 185. 149.]\n",
      "  [214. 185. 149.]\n",
      "  [214. 185. 149.]\n",
      "  ...\n",
      "  [214. 185. 149.]\n",
      "  [214. 185. 149.]\n",
      "  [214. 185. 149.]]\n",
      "\n",
      " [[214. 185. 149.]\n",
      "  [214. 185. 149.]\n",
      "  [214. 185. 149.]\n",
      "  ...\n",
      "  [214. 185. 149.]\n",
      "  [214. 185. 149.]\n",
      "  [214. 185. 149.]]\n",
      "\n",
      " ...\n",
      "\n",
      " [[ 79.  76.  71.]\n",
      "  [ 79.  76.  71.]\n",
      "  [ 79.  76.  71.]\n",
      "  ...\n",
      "  [ 79.  76.  71.]\n",
      "  [ 79.  76.  71.]\n",
      "  [ 79.  76.  71.]]\n",
      "\n",
      " [[ 79.  76.  71.]\n",
      "  [ 79.  76.  71.]\n",
      "  [ 79.  76.  71.]\n",
      "  ...\n",
      "  [ 79.  76.  71.]\n",
      "  [ 79.  76.  71.]\n",
      "  [ 79.  76.  71.]]\n",
      "\n",
      " [[ 79.  76.  71.]\n",
      "  [ 79.  76.  71.]\n",
      "  [ 79.  76.  71.]\n",
      "  ...\n",
      "  [ 79.  76.  71.]\n",
      "  [ 79.  76.  71.]\n",
      "  [ 79.  76.  71.]]]\n"
     ]
    }
   ],
   "source": [
    "print(imgs[1])"
   ]
  },
  {
   "cell_type": "code",
   "execution_count": null,
   "metadata": {},
   "outputs": [],
   "source": []
  }
 ],
 "metadata": {
  "kernelspec": {
   "display_name": "dfp_banana_clean",
   "language": "python",
   "name": "dfp_banana_clean"
  },
  "language_info": {
   "codemirror_mode": {
    "name": "ipython",
    "version": 3
   },
   "file_extension": ".py",
   "mimetype": "text/x-python",
   "name": "python",
   "nbconvert_exporter": "python",
   "pygments_lexer": "ipython3",
   "version": "3.6.7"
  }
 },
 "nbformat": 4,
 "nbformat_minor": 2
}
